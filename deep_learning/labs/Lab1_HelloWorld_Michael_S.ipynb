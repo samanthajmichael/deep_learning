{
 "cells": [
  {
   "cell_type": "markdown",
   "id": "kmpsxOhuuo5T",
   "metadata": {
    "id": "kmpsxOhuuo5T"
   },
   "source": [
    "#  Hello World!\n",
    "\n",
    "###  **DSBA 6165: AI & Deep Learning**\n"
   ]
  },
  {
   "cell_type": "markdown",
   "id": "ckXDTCmjuvzb",
   "metadata": {
    "id": "ckXDTCmjuvzb"
   },
   "source": [
    "## Goal\n",
    "\n",
    "The goal of this lab activity is practicing the simple deep learning example to become familiar with the deep learning settings. In class, we have learned that the four key components of deep learning are 1) data, 2) model, 3) objective function, and 4) optimization algorithm. Let us review how these components work together to solve the popular MNIST problem.\n"
   ]
  },
  {
   "cell_type": "markdown",
   "id": "QT-2SfMVvHC-",
   "metadata": {
    "id": "QT-2SfMVvHC-"
   },
   "source": [
    "## Data"
   ]
  },
  {
   "cell_type": "markdown",
   "id": "PTaYdKRPvRtb",
   "metadata": {
    "id": "PTaYdKRPvRtb"
   },
   "source": [
    "Let us import basic PyTorch libraries"
   ]
  },
  {
   "cell_type": "code",
   "execution_count": 3,
   "id": "1hm_LGnOA5nY",
   "metadata": {
    "id": "1hm_LGnOA5nY"
   },
   "outputs": [],
   "source": [
    "import torch\n",
    "import torch.nn as nn\n",
    "import torch.optim as optim\n",
    "import torchvision\n",
    "import torchvision.transforms as transforms\n",
    "import matplotlib.pyplot as plt\n"
   ]
  },
  {
   "cell_type": "markdown",
   "id": "60ce8e1e",
   "metadata": {
    "id": "60ce8e1e"
   },
   "source": [
    "Define data transformations for preprocessing the MNIST dataset"
   ]
  },
  {
   "cell_type": "code",
   "execution_count": 4,
   "id": "ks4AqGDFA6gB",
   "metadata": {
    "id": "ks4AqGDFA6gB"
   },
   "outputs": [],
   "source": [
    "transform = transforms.Compose([\n",
    "    transforms.ToTensor(),\n",
    "    transforms.Normalize((0.1307,), (0.3081,)) # these values are standard for MNIST dataset\n",
    "])"
   ]
  },
  {
   "cell_type": "markdown",
   "id": "b_Zh3zUyxqTs",
   "metadata": {
    "id": "b_Zh3zUyxqTs"
   },
   "source": [
    "Load the MNIST training and test datasets with transformations. PyTorch already has MNIST dataset and we can easily use it."
   ]
  },
  {
   "cell_type": "code",
   "execution_count": 5,
   "id": "WrUTGIu2xn2q",
   "metadata": {
    "id": "WrUTGIu2xn2q"
   },
   "outputs": [
    {
     "name": "stdout",
     "output_type": "stream",
     "text": [
      "Downloading http://yann.lecun.com/exdb/mnist/train-images-idx3-ubyte.gz\n",
      "Failed to download (trying next):\n",
      "HTTP Error 403: Forbidden\n",
      "\n",
      "Downloading https://ossci-datasets.s3.amazonaws.com/mnist/train-images-idx3-ubyte.gz\n",
      "Downloading https://ossci-datasets.s3.amazonaws.com/mnist/train-images-idx3-ubyte.gz to ./data\\MNIST\\raw\\train-images-idx3-ubyte.gz\n"
     ]
    },
    {
     "name": "stderr",
     "output_type": "stream",
     "text": [
      "100.0%\n"
     ]
    },
    {
     "name": "stdout",
     "output_type": "stream",
     "text": [
      "Extracting ./data\\MNIST\\raw\\train-images-idx3-ubyte.gz to ./data\\MNIST\\raw\n",
      "\n",
      "Downloading http://yann.lecun.com/exdb/mnist/train-labels-idx1-ubyte.gz\n",
      "Failed to download (trying next):\n",
      "HTTP Error 403: Forbidden\n",
      "\n",
      "Downloading https://ossci-datasets.s3.amazonaws.com/mnist/train-labels-idx1-ubyte.gz\n",
      "Downloading https://ossci-datasets.s3.amazonaws.com/mnist/train-labels-idx1-ubyte.gz to ./data\\MNIST\\raw\\train-labels-idx1-ubyte.gz\n"
     ]
    },
    {
     "name": "stderr",
     "output_type": "stream",
     "text": [
      "100.0%\n"
     ]
    },
    {
     "name": "stdout",
     "output_type": "stream",
     "text": [
      "Extracting ./data\\MNIST\\raw\\train-labels-idx1-ubyte.gz to ./data\\MNIST\\raw\n",
      "\n",
      "Downloading http://yann.lecun.com/exdb/mnist/t10k-images-idx3-ubyte.gz\n",
      "Failed to download (trying next):\n",
      "HTTP Error 403: Forbidden\n",
      "\n",
      "Downloading https://ossci-datasets.s3.amazonaws.com/mnist/t10k-images-idx3-ubyte.gz\n",
      "Downloading https://ossci-datasets.s3.amazonaws.com/mnist/t10k-images-idx3-ubyte.gz to ./data\\MNIST\\raw\\t10k-images-idx3-ubyte.gz\n"
     ]
    },
    {
     "name": "stderr",
     "output_type": "stream",
     "text": [
      "100.0%\n"
     ]
    },
    {
     "name": "stdout",
     "output_type": "stream",
     "text": [
      "Extracting ./data\\MNIST\\raw\\t10k-images-idx3-ubyte.gz to ./data\\MNIST\\raw\n",
      "\n",
      "Downloading http://yann.lecun.com/exdb/mnist/t10k-labels-idx1-ubyte.gz\n",
      "Failed to download (trying next):\n",
      "HTTP Error 403: Forbidden\n",
      "\n",
      "Downloading https://ossci-datasets.s3.amazonaws.com/mnist/t10k-labels-idx1-ubyte.gz\n",
      "Downloading https://ossci-datasets.s3.amazonaws.com/mnist/t10k-labels-idx1-ubyte.gz to ./data\\MNIST\\raw\\t10k-labels-idx1-ubyte.gz\n"
     ]
    },
    {
     "name": "stderr",
     "output_type": "stream",
     "text": [
      "100.0%\n"
     ]
    },
    {
     "name": "stdout",
     "output_type": "stream",
     "text": [
      "Extracting ./data\\MNIST\\raw\\t10k-labels-idx1-ubyte.gz to ./data\\MNIST\\raw\n",
      "\n"
     ]
    }
   ],
   "source": [
    "train_dataset = torchvision.datasets.MNIST(root='./data',\n",
    "                                         train=True,\n",
    "                                         transform=transform,\n",
    "                                         download=True)\n",
    "\n",
    "test_dataset = torchvision.datasets.MNIST(root='./data',\n",
    "                                        train=False,\n",
    "                                        transform=transform)"
   ]
  },
  {
   "cell_type": "markdown",
   "id": "_yOcwPxzVwvy",
   "metadata": {
    "id": "_yOcwPxzVwvy"
   },
   "source": [
    "### Visualization of data\n",
    "\n",
    "Let us take a look at some sample images in the dataset. The hand-written digits vary quite a lot, so it is not easy to identify the correct digits earlier, which is now quite easy problem for a simple deep learning model.   "
   ]
  },
  {
   "cell_type": "code",
   "execution_count": 6,
   "id": "FEn5iN8xVEb1",
   "metadata": {
    "id": "FEn5iN8xVEb1"
   },
   "outputs": [
    {
     "data": {
      "image/png": "[encoded data removed]",
      "text/plain": [
       "<Figure size 800x800 with 9 Axes>"
      ]
     },
     "metadata": {},
     "output_type": "display_data"
    }
   ],
   "source": [
    "figure = plt.figure(figsize=(8, 8))\n",
    "cols, rows = 3, 3\n",
    "for i in range(1, cols * rows + 1):\n",
    "    sample_idx = torch.randint(len(train_dataset), size=(1,)).item()\n",
    "    img, label = train_dataset[sample_idx]\n",
    "    figure.add_subplot(rows, cols, i)\n",
    "    plt.title(label)\n",
    "    plt.axis(\"off\")\n",
    "    plt.imshow(img.squeeze(), cmap=\"gray\")\n",
    "plt.show()"
   ]
  },
  {
   "cell_type": "markdown",
   "id": "s_Aw0fHxxzfj",
   "metadata": {
    "id": "s_Aw0fHxxzfj"
   },
   "source": [
    "Create data loaders for batching and shuffling the datasets"
   ]
  },
  {
   "cell_type": "code",
   "execution_count": 7,
   "id": "qLDET1JBxpsk",
   "metadata": {
    "id": "qLDET1JBxpsk"
   },
   "outputs": [],
   "source": [
    "train_loader = torch.utils.data.DataLoader(dataset=train_dataset,\n",
    "                                         batch_size=64,\n",
    "                                         shuffle=True)\n",
    "\n",
    "test_loader = torch.utils.data.DataLoader(dataset=test_dataset,\n",
    "                                        batch_size=64,\n",
    "                                        shuffle=False)\n"
   ]
  },
  {
   "cell_type": "markdown",
   "id": "4jM4NWvuWgB-",
   "metadata": {
    "id": "4jM4NWvuWgB-"
   },
   "source": [
    "# Model"
   ]
  },
  {
   "cell_type": "markdown",
   "id": "Y8VGBtvtyUOD",
   "metadata": {
    "id": "Y8VGBtvtyUOD"
   },
   "source": [
    "Now we build a neural network with three linear layers and one ReLU activation function in between. The model architecture consists of a series of layers designed for image classification. The [nn.Flatten](https://pytorch.org/docs/stable/generated/torch.nn.Flatten.html#flatten) layer transforms the 2D input images of size 28x28 into a 1D vector of size 784, which feeds into the fully connected layers. The [linear1](https://pytorch.org/docs/stable/generated/torch.nn.Linear.html#torch.nn.Linear) layer maps this input size of 784 to 128 hidden units and uses the ReLU activation function to introduce non-linearity. The [linear2](https://pytorch.org/docs/stable/generated/torch.nn.Linear.html#torch.nn.Linear) layer then maps the 128 units to 10 units, representing each digit class in the MNIST dataset. The [ReLU activation function](https://pytorch.org/docs/stable/generated/torch.nn.ReLU.html#torch.nn.ReLU) - (nn.ReLU()) helps the model learn complex patterns by allowing only positive values to pass to the next layer."
   ]
  },
  {
   "cell_type": "code",
   "execution_count": 8,
   "id": "feLI3u6cA-4N",
   "metadata": {
    "id": "feLI3u6cA-4N"
   },
   "outputs": [],
   "source": [
    "class Net(nn.Module):\n",
    "    def __init__(self):\n",
    "        super(Net, self).__init__()\n",
    "        self.flatten = nn.Flatten()\n",
    "        self.linear1 = nn.Linear(28 * 28, 128)\n",
    "        self.relu = nn.ReLU()\n",
    "        self.linear2 = nn.Linear(128, 10)\n",
    "\n",
    "    def forward(self, x):\n",
    "        x = self.flatten(x)\n",
    "        x = self.linear1(x)\n",
    "        x = self.relu(x)\n",
    "        x = self.linear2(x)\n",
    "        return x"
   ]
  },
  {
   "cell_type": "markdown",
   "id": "rPfnierRyYaa",
   "metadata": {
    "id": "rPfnierRyYaa"
   },
   "source": [
    "Create an instance of the model and move it to the appropriate device (CPU or GPU)"
   ]
  },
  {
   "cell_type": "code",
   "execution_count": 9,
   "id": "J5tSlDa2ybzl",
   "metadata": {
    "id": "J5tSlDa2ybzl"
   },
   "outputs": [
    {
     "name": "stdout",
     "output_type": "stream",
     "text": [
      "Net(\n",
      "  (flatten): Flatten(start_dim=1, end_dim=-1)\n",
      "  (linear1): Linear(in_features=784, out_features=128, bias=True)\n",
      "  (relu): ReLU()\n",
      "  (linear2): Linear(in_features=128, out_features=10, bias=True)\n",
      ")\n"
     ]
    }
   ],
   "source": [
    "model = Net()\n",
    "device = torch.device('cuda' if torch.cuda.is_available() else 'cpu')\n",
    "model.to(device)\n",
    "print(model)"
   ]
  },
  {
   "cell_type": "markdown",
   "id": "8O1l1KiVydpv",
   "metadata": {
    "id": "8O1l1KiVydpv"
   },
   "source": [
    "Set up the loss function and optimizer for the model"
   ]
  },
  {
   "cell_type": "code",
   "execution_count": 10,
   "id": "Jftah2qwBCfB",
   "metadata": {
    "id": "Jftah2qwBCfB"
   },
   "outputs": [],
   "source": [
    "criterion = nn.CrossEntropyLoss()\n",
    "optimizer = optim.Adam(model.parameters())\n"
   ]
  },
  {
   "cell_type": "markdown",
   "id": "PpgI9jNMyzrz",
   "metadata": {
    "id": "PpgI9jNMyzrz"
   },
   "source": [
    "Function to train the model with given data, criterion, and optimizer"
   ]
  },
  {
   "cell_type": "code",
   "execution_count": 11,
   "id": "fFkiofQ6BFRU",
   "metadata": {
    "id": "fFkiofQ6BFRU"
   },
   "outputs": [
    {
     "name": "stdout",
     "output_type": "stream",
     "text": [
      "Epoch [1/5], Loss: 0.2603, Accuracy: 92.35%\n",
      "Epoch [2/5], Loss: 0.1118, Accuracy: 96.64%\n",
      "Epoch [3/5], Loss: 0.0784, Accuracy: 97.58%\n",
      "Epoch [4/5], Loss: 0.0583, Accuracy: 98.19%\n",
      "Epoch [5/5], Loss: 0.0464, Accuracy: 98.50%\n"
     ]
    }
   ],
   "source": [
    "def train(model, train_loader, criterion, optimizer, num_epochs=5):\n",
    "    model.train()\n",
    "    for epoch in range(num_epochs):\n",
    "        running_loss = 0.0\n",
    "        correct = 0\n",
    "        total = 0\n",
    "\n",
    "        for i, (images, labels) in enumerate(train_loader):\n",
    "            images, labels = images.to(device), labels.to(device)\n",
    "\n",
    "            # Zero the gradients\n",
    "            optimizer.zero_grad()\n",
    "\n",
    "            # Forward pass\n",
    "            outputs = model(images)\n",
    "            loss = criterion(outputs, labels)\n",
    "\n",
    "            # Backward pass and optimize\n",
    "            loss.backward()\n",
    "            optimizer.step()\n",
    "\n",
    "            # Calculate accuracy\n",
    "            _, predicted = torch.max(outputs.data, 1)\n",
    "            total += labels.size(0)\n",
    "            correct += (predicted == labels).sum().item()\n",
    "            running_loss += loss.item()\n",
    "\n",
    "        epoch_loss = running_loss / len(train_loader)\n",
    "        epoch_acc = 100 * correct / total\n",
    "        print(f'Epoch [{epoch+1}/5], Loss: {epoch_loss:.4f}, Accuracy: {epoch_acc:.2f}%')\n",
    "\n",
    "# Train the model\n",
    "train(model, train_loader, criterion, optimizer)\n"
   ]
  },
  {
   "cell_type": "markdown",
   "id": "DKp5koDey5wo",
   "metadata": {
    "id": "DKp5koDey5wo"
   },
   "source": [
    "Function to evaluate the model on the test data and calculate accuracy"
   ]
  },
  {
   "cell_type": "code",
   "execution_count": 12,
   "id": "UD4WJnq5BH8i",
   "metadata": {
    "id": "UD4WJnq5BH8i"
   },
   "outputs": [
    {
     "name": "stdout",
     "output_type": "stream",
     "text": [
      "Test Accuracy: 97.57%\n"
     ]
    },
    {
     "data": {
      "text/plain": [
       "97.57"
      ]
     },
     "execution_count": 12,
     "metadata": {},
     "output_type": "execute_result"
    }
   ],
   "source": [
    "def evaluate(model, test_loader):\n",
    "    model.eval()\n",
    "    correct = 0\n",
    "    total = 0\n",
    "\n",
    "    with torch.no_grad():\n",
    "        for images, labels in test_loader:\n",
    "            images, labels = images.to(device), labels.to(device)\n",
    "            outputs = model(images)\n",
    "            _, predicted = torch.max(outputs.data, 1)\n",
    "            total += labels.size(0)\n",
    "            correct += (predicted == labels).sum().item()\n",
    "\n",
    "    accuracy = 100 * correct / total\n",
    "    print(f'Test Accuracy: {accuracy:.2f}%')\n",
    "    return accuracy\n",
    "\n",
    "# Evaluate the model\n",
    "evaluate(model, test_loader)\n"
   ]
  },
  {
   "cell_type": "markdown",
   "id": "1aXC95nKzMdO",
   "metadata": {
    "id": "1aXC95nKzMdO"
   },
   "source": [
    "Function to visualize model predictions on test data"
   ]
  },
  {
   "cell_type": "code",
   "execution_count": 13,
   "id": "_nMtvcKhBOOG",
   "metadata": {
    "id": "_nMtvcKhBOOG"
   },
   "outputs": [
    {
     "data": {
      "image/png": "[encoded data removed]",
      "text/plain": [
       "<Figure size 1200x600 with 10 Axes>"
      ]
     },
     "metadata": {},
     "output_type": "display_data"
    }
   ],
   "source": [
    "def visualize_predictions(model, test_loader):\n",
    "    model.eval()\n",
    "    images, labels = next(iter(test_loader))\n",
    "    images = images[:10].to(device)\n",
    "\n",
    "    with torch.no_grad():\n",
    "        outputs = model(images)\n",
    "        probs = torch.nn.functional.softmax(outputs, dim=1)\n",
    "\n",
    "    fig = plt.figure(figsize=(12, 6))\n",
    "    plt.tight_layout()\n",
    "\n",
    "    for i in range(10):\n",
    "        plt.subplot(2, 5, i+1)\n",
    "        plt.imshow(images[i].cpu().squeeze(), cmap='gray', interpolation='none')\n",
    "        plt.title(f\"{torch.max(probs[i]).item():.2f}\")\n",
    "        plt.axis('off')\n",
    "\n",
    "    plt.show()\n",
    "\n",
    "# Visualize predictions\n",
    "visualize_predictions(model, test_loader)\n"
   ]
  },
  {
   "cell_type": "markdown",
   "id": "dnCKrmWmzauw",
   "metadata": {
    "id": "dnCKrmWmzauw"
   },
   "source": [
    "Function to visualize predictions and true labels on the test data"
   ]
  },
  {
   "cell_type": "code",
   "execution_count": 14,
   "id": "ViLR_35_Cas9",
   "metadata": {
    "id": "ViLR_35_Cas9"
   },
   "outputs": [
    {
     "data": {
      "image/png": "[encoded data removed]",
      "text/plain": [
       "<Figure size 1200x600 with 10 Axes>"
      ]
     },
     "metadata": {},
     "output_type": "display_data"
    }
   ],
   "source": [
    "import torch\n",
    "import matplotlib.pyplot as plt\n",
    "\n",
    "def visualize_predictions(model, test_loader):\n",
    "    model.eval()\n",
    "    images, _ = next(iter(test_loader))\n",
    "    images = images[:10].to(device)\n",
    "\n",
    "    with torch.no_grad():\n",
    "        outputs = model(images)\n",
    "        # Get predicted digit (class with highest probability)\n",
    "        _, predicted = torch.max(outputs.data, 1)\n",
    "\n",
    "    fig = plt.figure(figsize=(12, 6))\n",
    "    plt.tight_layout()\n",
    "\n",
    "    for i in range(10):\n",
    "        plt.subplot(2, 5, i+1)\n",
    "        plt.imshow(images[i].cpu().squeeze(), cmap='gray', interpolation='none')\n",
    "        plt.title(f\"Predicted: {predicted[i].item()}\")\n",
    "        plt.axis('off')\n",
    "\n",
    "    plt.show()\n",
    "\n",
    "# Visualize predictions\n",
    "visualize_predictions(model, test_loader)\n"
   ]
  }
 ],
 "metadata": {
  "colab": {
   "provenance": []
  },
  "kernelspec": {
   "display_name": "deep_learning",
   "language": "python",
   "name": "python3"
  },
  "language_info": {
   "codemirror_mode": {
    "name": "ipython",
    "version": 3
   },
   "file_extension": ".py",
   "mimetype": "text/x-python",
   "name": "python",
   "nbconvert_exporter": "python",
   "pygments_lexer": "ipython3",
   "version": "3.10.12"
  },
  "toc": {
   "base_numbering": 1,
   "nav_menu": {},
   "number_sections": true,
   "sideBar": true,
   "skip_h1_title": false,
   "title_cell": "Table of Contents",
   "title_sidebar": "Contents",
   "toc_cell": false,
   "toc_position": {},
   "toc_section_display": true,
   "toc_window_display": true
  }
 },
 "nbformat": 4,
 "nbformat_minor": 5
}
