{
  "cells": [
    {
      "cell_type": "markdown",
      "metadata": {
        "id": "3c5gmvpWQgg6"
      },
      "source": [
        "# Deep Neural Network"
      ]
    },
    {
      "cell_type": "markdown",
      "metadata": {
        "id": "xgb92d8HQgg-"
      },
      "source": [
        "<font color=\"black\"> SAMANTHA MICHAEL     </font>"
      ]
    },
    {
      "cell_type": "markdown",
      "metadata": {
        "id": "-xj-F33-E-3_"
      },
      "source": [
        "## Data Preparation\n",
        "\n",
        "Data was prepared in the EDA notebook. Please see (01_EDA.ipynb) for a detailed explaintion of the process."
      ]
    },
    {
      "cell_type": "markdown",
      "metadata": {
        "id": "hzZGeXcDE-4B"
      },
      "source": [
        "#### Imports"
      ]
    },
    {
      "cell_type": "code",
      "execution_count": 41,
      "metadata": {
        "colab": {
          "base_uri": "https://localhost:8080/"
        },
        "id": "gOgZ8TIjE-4C",
        "outputId": "888bac78-b399-47e0-b67a-0940847fe155"
      },
      "outputs": [
        {
          "name": "stdout",
          "output_type": "stream",
          "text": [
            "Num GPUs Available:  1\n",
            "GPU Details: [PhysicalDevice(name='/physical_device:GPU:0', device_type='GPU')]\n",
            "TF version: 2.18.0\n"
          ]
        }
      ],
      "source": [
        "import matplotlib.pyplot as plt\n",
        "import numpy as np\n",
        "import pandas as pd\n",
        "import pickle\n",
        "import random\n",
        "import seaborn as sns\n",
        "from sklearn.preprocessing import LabelEncoder\n",
        "import tensorflow as tf\n",
        "from tensorflow import keras\n",
        "from tensorflow.keras import layers\n",
        "print(\"Num GPUs Available: \", len(tf.config.list_physical_devices('GPU')))\n",
        "print(\"GPU Details:\", tf.config.list_physical_devices('GPU'))\n",
        "print(\"TF version:\", tf.__version__)"
      ]
    },
    {
      "cell_type": "markdown",
      "metadata": {
        "id": "MvxLagh3QghE"
      },
      "source": [
        "#### Reproducibility\n",
        "It is crucial to set random seeds ahead of any random operations. A simple function to set all necessary seeds is provided."
      ]
    },
    {
      "cell_type": "code",
      "execution_count": 42,
      "metadata": {
        "id": "VIi68GxTTXtc"
      },
      "outputs": [],
      "source": [
        "def set_seeds(seed=42):\n",
        "    random.seed(seed)\n",
        "    np.random.seed(seed)\n",
        "    tf.random.set_seed(seed)\n",
        "set_seeds(42)"
      ]
    },
    {
      "cell_type": "markdown",
      "metadata": {
        "id": "v1vtvsfcE-4G"
      },
      "source": [
        "#### Loading Data\n",
        "Importing the feature matrix and target vector as numpy arrays (X,y) in standard float32 format"
      ]
    },
    {
      "cell_type": "code",
      "execution_count": 43,
      "metadata": {
        "id": "2MkJLVRME-4H"
      },
      "outputs": [],
      "source": [
        "# loading the resampled numpy arrays from the EDA notebook and ensuring consistent format\n",
        "X = np.load('X_smote.npy').astype('float32') ## if running locally - adjust the path data/X_smote.npy\n",
        "y = np.load('y_smote.npy').astype('float32') ## if running locally - adjust the path data/y_smote.npy"
      ]
    },
    {
      "cell_type": "markdown",
      "metadata": {
        "id": "DgwzyXTAE-4H"
      },
      "source": [
        "#### Viewing Data Shape"
      ]
    },
    {
      "cell_type": "code",
      "execution_count": 44,
      "metadata": {
        "colab": {
          "base_uri": "https://localhost:8080/"
        },
        "id": "6wRNCw0mE-4I",
        "outputId": "6230b4aa-d9a1-4293-be3e-c23a9fc7b248"
      },
      "outputs": [
        {
          "name": "stdout",
          "output_type": "stream",
          "text": [
            "Array type: <class 'numpy.ndarray'>\n",
            "Array shape: (504324, 95)\n",
            "Data type: float32\n",
            "[[1. 0. 0. 0. 0. 0. 1. 0. 0. 0. 0. 0. 0. 0. 0. 0. 0. 0. 0. 0. 0. 0. 0. 0.\n",
            "  0. 0. 0. 0. 0. 0. 0. 0. 0. 0. 0. 0. 0. 0. 0. 0. 0. 0. 1. 0. 1. 0. 0. 1.\n",
            "  0. 0. 0. 0. 0. 0. 0. 0. 1. 0. 0. 1. 0. 1. 0. 0. 0. 0. 0. 0. 0. 0. 0. 0.\n",
            "  0. 0. 0. 0. 0. 0. 0. 0. 0. 1. 0. 0. 0. 0. 0. 0. 0. 0. 0. 0. 0. 0. 0.]\n",
            " [1. 0. 0. 0. 0. 0. 1. 0. 0. 0. 0. 0. 0. 0. 0. 0. 0. 0. 0. 0. 0. 0. 0. 0.\n",
            "  0. 0. 0. 0. 0. 0. 0. 0. 0. 0. 0. 0. 0. 0. 0. 0. 0. 0. 1. 0. 1. 0. 0. 1.\n",
            "  0. 0. 0. 0. 0. 0. 0. 0. 1. 0. 0. 1. 0. 1. 0. 0. 0. 0. 0. 0. 0. 0. 0. 0.\n",
            "  0. 0. 0. 0. 0. 0. 0. 0. 0. 1. 0. 0. 0. 0. 0. 0. 0. 0. 0. 0. 0. 0. 0.]\n",
            " [0. 1. 0. 0. 0. 0. 1. 0. 0. 0. 0. 0. 0. 0. 0. 0. 0. 0. 0. 0. 0. 0. 0. 0.\n",
            "  0. 0. 0. 0. 0. 0. 0. 0. 0. 0. 0. 0. 0. 0. 0. 0. 0. 0. 1. 1. 0. 0. 0. 1.\n",
            "  0. 0. 0. 0. 0. 0. 0. 0. 1. 0. 0. 1. 0. 0. 1. 0. 0. 0. 0. 0. 0. 0. 0. 1.\n",
            "  0. 0. 0. 0. 0. 0. 0. 0. 0. 0. 0. 0. 0. 0. 0. 0. 0. 0. 0. 0. 0. 0. 0.]\n",
            " [1. 0. 0. 0. 0. 0. 1. 0. 0. 0. 0. 0. 0. 0. 0. 0. 0. 0. 0. 0. 0. 0. 0. 0.\n",
            "  0. 0. 0. 0. 0. 0. 0. 0. 0. 0. 0. 0. 0. 0. 0. 1. 0. 0. 0. 0. 1. 0. 0. 1.\n",
            "  0. 0. 0. 0. 0. 0. 0. 0. 1. 0. 0. 1. 0. 1. 0. 0. 0. 0. 0. 0. 0. 0. 0. 0.\n",
            "  0. 0. 0. 0. 0. 0. 0. 0. 0. 1. 0. 0. 0. 0. 0. 0. 0. 0. 0. 0. 0. 0. 0.]\n",
            " [1. 0. 0. 0. 0. 0. 1. 0. 0. 0. 0. 0. 0. 0. 0. 0. 0. 0. 0. 0. 0. 0. 0. 0.\n",
            "  0. 0. 0. 0. 0. 0. 0. 0. 0. 0. 0. 0. 0. 0. 0. 0. 0. 0. 1. 0. 1. 0. 0. 1.\n",
            "  0. 0. 0. 0. 0. 0. 0. 0. 1. 0. 0. 1. 0. 1. 0. 0. 0. 0. 0. 0. 0. 0. 0. 0.\n",
            "  0. 0. 0. 0. 0. 0. 0. 0. 0. 1. 0. 0. 0. 0. 0. 0. 0. 0. 0. 0. 0. 0. 0.]]\n"
          ]
        }
      ],
      "source": [
        "print(\"Array type:\", type(X))\n",
        "print(\"Array shape:\", X.shape)\n",
        "print(\"Data type:\", X.dtype)\n",
        "print(X[:5])"
      ]
    },
    {
      "cell_type": "code",
      "execution_count": 45,
      "metadata": {
        "colab": {
          "base_uri": "https://localhost:8080/"
        },
        "id": "NeqRy6qkE-4J",
        "outputId": "d6aac703-e2c0-47c6-cf00-32d2d1f79f42"
      },
      "outputs": [
        {
          "name": "stdout",
          "output_type": "stream",
          "text": [
            "Array type: <class 'numpy.ndarray'>\n",
            "Array shape: (504324,)\n",
            "Data type: float32\n",
            "[5. 5. 3. 5. 5.]\n"
          ]
        }
      ],
      "source": [
        "print(\"Array type:\", type(y))\n",
        "print(\"Array shape:\", y.shape)\n",
        "print(\"Data type:\", y.dtype)\n",
        "print(y[:5])"
      ]
    },
    {
      "cell_type": "markdown",
      "metadata": {
        "id": "u6VOkjPME-4K"
      },
      "source": [
        "#### Loading the Saved Encoder to View the Label Encodings in the Target Array"
      ]
    },
    {
      "cell_type": "code",
      "execution_count": 46,
      "metadata": {
        "colab": {
          "base_uri": "https://localhost:8080/"
        },
        "id": "aSQDAAauE-4L",
        "outputId": "20684674-7b8b-4ffb-f809-82af7ed1cabf"
      },
      "outputs": [
        {
          "name": "stdout",
          "output_type": "stream",
          "text": [
            "Class mapping:\n",
            "0: CHUSKA\n",
            "1: CIBOLA\n",
            "2: KAYENTA\n",
            "3: MESA V BLANDING\n",
            "4: MESA V CAHONE\n",
            "5: MESA V DOLORES\n",
            "6: MESA V SAN JUAN\n",
            "7: MESA V SANDSTONE\n",
            "8: QRTZ SAND IND\n"
          ]
        }
      ],
      "source": [
        "## if running in colab make sure to import the label_encoder.pkl file from the EDA notebook\n",
        "from sklearn.preprocessing import LabelEncoder\n",
        "import pickle\n",
        "\n",
        "# load the encoder\n",
        "with open('label_encoder.pkl', 'rb') as file:\n",
        "    le = pickle.load(file)\n",
        "\n",
        "# view mapping\n",
        "print(\"Class mapping:\")\n",
        "for i, label in enumerate(le.classes_):\n",
        "    print(f\"{i}: {label}\")"
      ]
    },
    {
      "cell_type": "markdown",
      "metadata": {
        "id": "WyJt6twaE-4L"
      },
      "source": [
        "#### Splitting the Data into Test and Train Sets"
      ]
    },
    {
      "cell_type": "code",
      "execution_count": 47,
      "metadata": {
        "colab": {
          "base_uri": "https://localhost:8080/"
        },
        "id": "YTESFSSvE-4M",
        "outputId": "ce7d3adc-9df1-4c8b-b196-3fae9a27b305"
      },
      "outputs": [
        {
          "name": "stdout",
          "output_type": "stream",
          "text": [
            "x train shape: (403459, 95)\n",
            "x test shape: (100865, 95)\n",
            "y train shape: (403459,)\n",
            "y test shape: (100865,)\n"
          ]
        }
      ],
      "source": [
        "n_samples = X.shape[0]\n",
        "indices = np.arange(n_samples)\n",
        "train_idx = np.random.choice(indices, size=int(0.8 * n_samples), replace=False)\n",
        "\n",
        "# handling the numpy array with masking\n",
        "test_mask = np.ones(n_samples, dtype=bool)\n",
        "test_mask[train_idx] = False\n",
        "test_idx = indices[test_mask]\n",
        "\n",
        "# splitting using numpy indexing\n",
        "x_train = X[train_idx]\n",
        "x_test = X[test_idx]\n",
        "y_train = y[train_idx]\n",
        "y_test = y[test_idx]\n",
        "\n",
        "print(f'x train shape: {x_train.shape}')\n",
        "print(f'x test shape: {x_test.shape}')\n",
        "print(f'y train shape: {y_train.shape}')\n",
        "print(f'y test shape: {y_test.shape}')"
      ]
    },
    {
      "cell_type": "code",
      "execution_count": 48,
      "metadata": {
        "colab": {
          "base_uri": "https://localhost:8080/",
          "height": 295
        },
        "id": "l20S38FnE-4M",
        "outputId": "96fe773f-f869-4f4a-afda-a772eb2b47d6"
      },
      "outputs": [
        {
          "data": {
            "text/plain": [
              "array([[0., 1., 0., ..., 0., 0., 0.],\n",
              "       [1., 0., 0., ..., 0., 0., 0.],\n",
              "       [1., 0., 0., ..., 0., 0., 0.],\n",
              "       ...,\n",
              "       [1., 0., 0., ..., 0., 0., 0.],\n",
              "       [1., 0., 0., ..., 0., 0., 0.],\n",
              "       [1., 0., 0., ..., 0., 0., 0.]], dtype=float32)"
            ]
          },
          "metadata": {},
          "output_type": "display_data"
        },
        {
          "data": {
            "text/plain": [
              "array([[1., 0., 0., ..., 0., 0., 0.],\n",
              "       [0., 1., 0., ..., 0., 0., 0.],\n",
              "       [0., 1., 0., ..., 0., 0., 0.],\n",
              "       ...,\n",
              "       [1., 0., 0., ..., 0., 0., 0.],\n",
              "       [1., 0., 0., ..., 0., 0., 0.],\n",
              "       [1., 0., 0., ..., 0., 0., 0.]], dtype=float32)"
            ]
          },
          "metadata": {},
          "output_type": "display_data"
        },
        {
          "data": {
            "text/plain": [
              "array([3., 6., 5., ..., 5., 8., 1.], dtype=float32)"
            ]
          },
          "metadata": {},
          "output_type": "display_data"
        },
        {
          "data": {
            "text/plain": [
              "array([5., 3., 3., ..., 8., 8., 8.], dtype=float32)"
            ]
          },
          "metadata": {},
          "output_type": "display_data"
        }
      ],
      "source": [
        "display(x_train)\n",
        "display(x_test)\n",
        "display(y_train)\n",
        "display(y_test)"
      ]
    },
    {
      "cell_type": "markdown",
      "metadata": {
        "id": "s3qxXfroE-4N"
      },
      "source": [
        "#### Scaling\n",
        "Since the data were all categorical and have been encoded, there is no need for normalization. However, let's check the mean and standard deviation to be sure."
      ]
    },
    {
      "cell_type": "code",
      "execution_count": 49,
      "metadata": {
        "colab": {
          "base_uri": "https://localhost:8080/"
        },
        "id": "CPz8AGX9E-4N",
        "outputId": "1c58f956-3149-4816-d1d0-503a420a9a32"
      },
      "outputs": [
        {
          "name": "stdout",
          "output_type": "stream",
          "text": [
            "\n",
            "X Statistics:\n",
            "----------\n",
            "Feature          Mean          Std\n",
            "----------\n",
            "0                0.82         0.38\n",
            "1                0.12         0.33\n",
            "2                0.03         0.18\n",
            "3                0.00         0.01\n",
            "4                0.00         0.01\n",
            "5                0.01         0.10\n",
            "6                0.19         0.39\n",
            "7                0.00         0.04\n",
            "8                0.06         0.23\n",
            "9                0.00         0.00\n",
            "10               0.08         0.28\n",
            "11               0.03         0.16\n",
            "12               0.00         0.04\n",
            "13               0.00         0.00\n",
            "14               0.00         0.00\n",
            "15               0.00         0.00\n",
            "16               0.00         0.02\n",
            "17               0.00         0.01\n",
            "18               0.03         0.17\n",
            "19               0.00         0.05\n",
            "20               0.05         0.23\n",
            "21               0.21         0.41\n",
            "22               0.02         0.14\n",
            "23               0.01         0.11\n",
            "24               0.00         0.01\n",
            "25               0.01         0.07\n",
            "26               0.00         0.01\n",
            "27               0.00         0.04\n",
            "28               0.02         0.14\n",
            "29               0.00         0.02\n",
            "30               0.00         0.00\n",
            "31               0.05         0.21\n",
            "32               0.11         0.31\n",
            "33               0.00         0.00\n",
            "34               0.11         0.31\n",
            "35               0.00         0.00\n",
            "36               0.02         0.12\n",
            "37               0.00         0.04\n",
            "38               0.02         0.14\n",
            "39               0.03         0.16\n",
            "40               0.00         0.03\n",
            "41               0.00         0.03\n",
            "42               0.93         0.26\n",
            "43               0.43         0.50\n",
            "44               0.56         0.50\n",
            "45               0.31         0.46\n",
            "46               0.00         0.03\n",
            "47               0.66         0.47\n",
            "48               0.02         0.13\n",
            "49               0.00         0.02\n",
            "50               0.00         0.00\n",
            "51               0.00         0.00\n",
            "52               0.00         0.02\n",
            "53               0.08         0.27\n",
            "54               0.13         0.34\n",
            "55               0.00         0.01\n",
            "56               0.66         0.47\n",
            "57               0.11         0.31\n",
            "58               0.02         0.13\n",
            "59               0.88         0.33\n",
            "60               0.09         0.28\n",
            "61               0.51         0.50\n",
            "62               0.13         0.34\n",
            "63               0.00         0.01\n",
            "64               0.35         0.48\n",
            "65               0.00         0.02\n",
            "66               0.00         0.01\n",
            "67               0.00         0.00\n",
            "68               0.00         0.00\n",
            "69               0.00         0.02\n",
            "70               0.00         0.00\n",
            "71               0.32         0.47\n",
            "72               0.00         0.04\n",
            "73               0.00         0.01\n",
            "74               0.00         0.00\n",
            "75               0.00         0.02\n",
            "76               0.00         0.01\n",
            "77               0.00         0.00\n",
            "78               0.00         0.03\n",
            "79               0.00         0.01\n",
            "80               0.00         0.01\n",
            "81               0.64         0.48\n",
            "82               0.00         0.01\n",
            "83               0.00         0.05\n",
            "84               0.00         0.00\n",
            "85               0.00         0.03\n",
            "86               0.00         0.05\n",
            "87               0.00         0.00\n",
            "88               0.00         0.03\n",
            "89               0.00         0.02\n",
            "90               0.00         0.03\n",
            "91               0.00         0.00\n",
            "92               0.00         0.01\n",
            "93               0.00         0.01\n",
            "94               0.00         0.07\n",
            "\n",
            "y Statistics:\n",
            "----------\n",
            "Feature          Mean          Std\n",
            "----------\n",
            "0                4.00         2.58\n"
          ]
        }
      ],
      "source": [
        "data = {'X': X, 'y': y}\n",
        "\n",
        "for name, array in data.items():\n",
        "    print(f\"\\n{name} Statistics:\")\n",
        "    print(\"-\" * 10)\n",
        "\n",
        "    # Stack mean and std for each array\n",
        "    stats = np.vstack([\n",
        "        np.mean(array, axis=0),\n",
        "        np.std(array, axis=0)\n",
        "    ]).T\n",
        "\n",
        "    # header\n",
        "    print(f\"{'Feature':<8} {'Mean':>12} {'Std':>12}\")\n",
        "    print(\"-\" * 10)\n",
        "\n",
        "    # print statistics\n",
        "    if name == 'X':\n",
        "        for i, (mean, std) in enumerate(stats):\n",
        "            print(f\"{i:<8} {mean:>12.2f} {std:>12.2f}\")\n",
        "    else:\n",
        "        for i, (mean, std) in enumerate(stats):\n",
        "            print(f\"{i:<8} {mean:>12.2f} {std:>12.2f}\")"
      ]
    },
    {
      "cell_type": "markdown",
      "metadata": {
        "id": "VwursRNAQghO"
      },
      "source": [
        "##### Observation\n",
        "Everthing looks good and the data is ready for modeling."
      ]
    },
    {
      "cell_type": "markdown",
      "metadata": {
        "id": "YJ4Av0FAE-4O"
      },
      "source": [
        "# Method\n",
        "Multiclass pottery classification deep neural network consisting of:\n",
        "\n",
        "* Input Layer: 95 input neurons each corresponding to the encoded features\n",
        "\n",
        "* Hidden Layers: 64 neurons with ReLU activation introducing non linearity and mitigating vanishing gradient problem\n",
        "\n",
        "* Output Layer: 9 output neurons with softmax activation for multiclass classification\n",
        "\n",
        "* He Weight Initialization: used for hidden layer weights and implemented to ensure smooth training process with ReLU activation\n",
        "\n",
        "* Learning Rate Schedule: learning rate decay helps model converge more smoothly\n",
        "\n",
        "* Regularization: L2 weight decay added to hidden layer to prevent overfitting\n",
        "\n",
        "* Optimization: Adaptive Moment Esitmation (Adam) optimizer automatically adjusts learning rates for each parameter\n",
        "\n",
        "* Early Stopping with Checkpointing: stops the model training if the validation loss does not improve with a patience of 10 epochs. implemented to prevent overfitting\n",
        "\n"
      ]
    },
    {
      "cell_type": "markdown",
      "metadata": {
        "id": "0wOuANeCQghP"
      },
      "source": [
        "#### Model Class Definition\n",
        "* Multilayer Perceptron (MLP) - simple yet effective neural network for multi-class classification.\n",
        "* Chosen for its ability to capture non linear relationships in the features and target variables in the pottery classification data.\n",
        "\n",
        "\n",
        "He Normalization Initialization:\n",
        "* Specifically designed for layers with ReLU activation\n",
        "* Helps prevent vanishing/exploding gradient problems\n",
        "* Initializes hidden layer weights with a variance scaled to the number of input units\n",
        "\n",
        "L2 Weight Decay:\n",
        "* Adds a penalty for large weights to the loss function\n",
        "* Helps prevent overfitting\n",
        "* Keeps model weights small and more generalized\n",
        "\n",
        "Techniques were chosen to:\n",
        "\n",
        "* Stabilize initial training\n",
        "* Prevent model from becoming too complex\n",
        "* Improve overall generalization performance"
      ]
    },
    {
      "cell_type": "code",
      "execution_count": 50,
      "metadata": {
        "id": "DR9TuPciE-4P"
      },
      "outputs": [],
      "source": [
        "class PotteryClassifier(keras.Model):\n",
        "    \"\"\" Multilayer Perceptron class\n",
        "\n",
        "        attributes\n",
        "        ===========\n",
        "        net     Sequential\n",
        "                network built with keras.Sequential\n",
        "    \"\"\"\n",
        "\n",
        "    def __init__(self, X, n_output, n_hidden, activ='relu'):\n",
        "        super().__init__()\n",
        "\n",
        "        self.net = keras.Sequential([\n",
        "            keras.Input(shape=(95,)),\n",
        "            keras.layers.Dense(n_hidden,\n",
        "                               activation=activ,\n",
        "                               kernel_initializer= 'he_normal', # he weight initialization for our relu activation\n",
        "                               kernel_regularizer=keras.regularizers.l2(0.001) # l2 regularization - weight decay\n",
        "                               ),\n",
        "            keras.layers.Dense(n_output, activation='softmax')\n",
        "        ])\n",
        "\n",
        "        self.net.summary()\n",
        "\n",
        "\n",
        "    def call(self, input):\n",
        "        x = self.net(input)\n",
        "        return x"
      ]
    },
    {
      "cell_type": "markdown",
      "metadata": {
        "id": "JNQrvCozQghQ"
      },
      "source": [
        "#### Applying Learning Rate Decay\n",
        "* Gradually reduces the learning rate during training\n",
        "* Helps the model converge more precisely\n",
        "* Allows larger steps early in training, smaller steps later"
      ]
    },
    {
      "cell_type": "code",
      "execution_count": 51,
      "metadata": {
        "id": "KODiD5GJSgvr"
      },
      "outputs": [],
      "source": [
        "initial_learning_rate = 0.01\n",
        "lr_schedule = keras.optimizers.schedules.ExponentialDecay(\n",
        "    initial_learning_rate,\n",
        "    decay_steps=100,  # adjust this as needed\n",
        "    decay_rate=0.9,\n",
        "    staircase=True\n",
        ")"
      ]
    },
    {
      "cell_type": "markdown",
      "metadata": {
        "id": "SKr8FmTzQghR"
      },
      "source": [
        "#### Building the Model"
      ]
    },
    {
      "cell_type": "code",
      "execution_count": 52,
      "metadata": {
        "colab": {
          "base_uri": "https://localhost:8080/",
          "height": 204
        },
        "id": "TdUmzx-tE-4Q",
        "outputId": "7052dd2c-ca6c-4af9-cb17-c76f6bdf17a0"
      },
      "outputs": [
        {
          "data": {
            "text/html": [
              "<pre style=\"white-space:pre;overflow-x:auto;line-height:normal;font-family:Menlo,'DejaVu Sans Mono',consolas,'Courier New',monospace\"><span style=\"font-weight: bold\">Model: \"sequential_2\"</span>\n",
              "</pre>\n"
            ],
            "text/plain": [
              "\u001b[1mModel: \"sequential_2\"\u001b[0m\n"
            ]
          },
          "metadata": {},
          "output_type": "display_data"
        },
        {
          "data": {
            "text/html": [
              "<pre style=\"white-space:pre;overflow-x:auto;line-height:normal;font-family:Menlo,'DejaVu Sans Mono',consolas,'Courier New',monospace\">┏━━━━━━━━━━━━━━━━━━━━━━━━━━━━━━━━━━━━━━┳━━━━━━━━━━━━━━━━━━━━━━━━━━━━━┳━━━━━━━━━━━━━━━━━┓\n",
              "┃<span style=\"font-weight: bold\"> Layer (type)                         </span>┃<span style=\"font-weight: bold\"> Output Shape                </span>┃<span style=\"font-weight: bold\">         Param # </span>┃\n",
              "┡━━━━━━━━━━━━━━━━━━━━━━━━━━━━━━━━━━━━━━╇━━━━━━━━━━━━━━━━━━━━━━━━━━━━━╇━━━━━━━━━━━━━━━━━┩\n",
              "│ dense_4 (<span style=\"color: #0087ff; text-decoration-color: #0087ff\">Dense</span>)                      │ (<span style=\"color: #00d7ff; text-decoration-color: #00d7ff\">None</span>, <span style=\"color: #00af00; text-decoration-color: #00af00\">64</span>)                  │           <span style=\"color: #00af00; text-decoration-color: #00af00\">6,144</span> │\n",
              "├──────────────────────────────────────┼─────────────────────────────┼─────────────────┤\n",
              "│ dense_5 (<span style=\"color: #0087ff; text-decoration-color: #0087ff\">Dense</span>)                      │ (<span style=\"color: #00d7ff; text-decoration-color: #00d7ff\">None</span>, <span style=\"color: #00af00; text-decoration-color: #00af00\">9</span>)                   │             <span style=\"color: #00af00; text-decoration-color: #00af00\">585</span> │\n",
              "└──────────────────────────────────────┴─────────────────────────────┴─────────────────┘\n",
              "</pre>\n"
            ],
            "text/plain": [
              "┏━━━━━━━━━━━━━━━━━━━━━━━━━━━━━━━━━━━━━━┳━━━━━━━━━━━━━━━━━━━━━━━━━━━━━┳━━━━━━━━━━━━━━━━━┓\n",
              "┃\u001b[1m \u001b[0m\u001b[1mLayer (type)                        \u001b[0m\u001b[1m \u001b[0m┃\u001b[1m \u001b[0m\u001b[1mOutput Shape               \u001b[0m\u001b[1m \u001b[0m┃\u001b[1m \u001b[0m\u001b[1m        Param #\u001b[0m\u001b[1m \u001b[0m┃\n",
              "┡━━━━━━━━━━━━━━━━━━━━━━━━━━━━━━━━━━━━━━╇━━━━━━━━━━━━━━━━━━━━━━━━━━━━━╇━━━━━━━━━━━━━━━━━┩\n",
              "│ dense_4 (\u001b[38;5;33mDense\u001b[0m)                      │ (\u001b[38;5;45mNone\u001b[0m, \u001b[38;5;34m64\u001b[0m)                  │           \u001b[38;5;34m6,144\u001b[0m │\n",
              "├──────────────────────────────────────┼─────────────────────────────┼─────────────────┤\n",
              "│ dense_5 (\u001b[38;5;33mDense\u001b[0m)                      │ (\u001b[38;5;45mNone\u001b[0m, \u001b[38;5;34m9\u001b[0m)                   │             \u001b[38;5;34m585\u001b[0m │\n",
              "└──────────────────────────────────────┴─────────────────────────────┴─────────────────┘\n"
            ]
          },
          "metadata": {},
          "output_type": "display_data"
        },
        {
          "data": {
            "text/html": [
              "<pre style=\"white-space:pre;overflow-x:auto;line-height:normal;font-family:Menlo,'DejaVu Sans Mono',consolas,'Courier New',monospace\"><span style=\"font-weight: bold\"> Total params: </span><span style=\"color: #00af00; text-decoration-color: #00af00\">6,729</span> (26.29 KB)\n",
              "</pre>\n"
            ],
            "text/plain": [
              "\u001b[1m Total params: \u001b[0m\u001b[38;5;34m6,729\u001b[0m (26.29 KB)\n"
            ]
          },
          "metadata": {},
          "output_type": "display_data"
        },
        {
          "data": {
            "text/html": [
              "<pre style=\"white-space:pre;overflow-x:auto;line-height:normal;font-family:Menlo,'DejaVu Sans Mono',consolas,'Courier New',monospace\"><span style=\"font-weight: bold\"> Trainable params: </span><span style=\"color: #00af00; text-decoration-color: #00af00\">6,729</span> (26.29 KB)\n",
              "</pre>\n"
            ],
            "text/plain": [
              "\u001b[1m Trainable params: \u001b[0m\u001b[38;5;34m6,729\u001b[0m (26.29 KB)\n"
            ]
          },
          "metadata": {},
          "output_type": "display_data"
        },
        {
          "data": {
            "text/html": [
              "<pre style=\"white-space:pre;overflow-x:auto;line-height:normal;font-family:Menlo,'DejaVu Sans Mono',consolas,'Courier New',monospace\"><span style=\"font-weight: bold\"> Non-trainable params: </span><span style=\"color: #00af00; text-decoration-color: #00af00\">0</span> (0.00 B)\n",
              "</pre>\n"
            ],
            "text/plain": [
              "\u001b[1m Non-trainable params: \u001b[0m\u001b[38;5;34m0\u001b[0m (0.00 B)\n"
            ]
          },
          "metadata": {},
          "output_type": "display_data"
        }
      ],
      "source": [
        "model = PotteryClassifier(x_train, n_hidden=64, n_output=9)"
      ]
    },
    {
      "cell_type": "markdown",
      "metadata": {
        "id": "NSAf3ZhQQghR"
      },
      "source": [
        "#### Compiling the Model, Implementing Early Stopping & Checkpointing\n",
        "The model was compiled with the Adam optimizer, sparse categorical crossentropy loss function, and accuracy metric to prepare the neural network for multiclass classification training.\n",
        "\n",
        "Implemented early stopping with model checkpointing to prevent overfitting and preserve the best model configuration during training, allowing the model to halt when validation performance plateaus and retain the optimal weights.\n",
        "\n",
        "Adam optimization was chosen to:\n",
        "\n",
        "* Automatically adjust learning rates for each parameter\n",
        "* Help handle different scales of parameters more effectively\n",
        "* Combine benefits of momentum and adaptive learning rates\n",
        "* Enable faster convergence and is more smooth compared to standard gradient descent"
      ]
    },
    {
      "cell_type": "code",
      "execution_count": 53,
      "metadata": {
        "id": "ipeEhLtSE-4Q"
      },
      "outputs": [],
      "source": [
        "model.compile(\n",
        "    optimizer = keras.optimizers.Adam(learning_rate=0.01),\n",
        "    loss = keras.losses.SparseCategoricalCrossentropy(),\n",
        "    metrics = ['accuracy']\n",
        "\n",
        ")\n",
        "\n",
        "early_stopping = keras.callbacks.EarlyStopping(\n",
        "    monitor='val_loss',\n",
        "    patience=10,\n",
        "    restore_best_weights=True,\n",
        "    min_delta=0.001  # min change to qualify as an improvement\n",
        ")\n",
        "\n",
        "model_checkpoint = keras.callbacks.ModelCheckpoint(\n",
        "    filepath='./models/best_model.keras',\n",
        "    monitor='val_loss',\n",
        "    save_best_only=True,\n",
        "    save_weights_only=False\n",
        ")"
      ]
    },
    {
      "cell_type": "markdown",
      "metadata": {
        "id": "fzCpyESCE-4T"
      },
      "source": [
        "# Experiments\n",
        "\n",
        "#### Model Hyperparameters and Training Configuration\n",
        "Hyperparameters:\n",
        "* Epochs: 500 epochs selected to provide sufficient training time\n",
        "* Batch Size: 256 chosen for computational efficiency and gradient stability\n",
        "* Validation Split: 0.2 to ensure robust model evaluation\n",
        "\n",
        "Early Stopping:\n",
        "* 10 epoch patience\n",
        "* Monitors validation loss\n",
        "* Prevents unnecessary computational expense\n",
        "\n",
        "Optimization:\n",
        "* Adam optimizer with 0.01 initial learning rate and exponential decay"
      ]
    },
    {
      "cell_type": "markdown",
      "metadata": {
        "id": "POyZJ6lYQghS"
      },
      "source": [
        "#### Rationale for Architectural Choices & Hyperparameter Selection\n",
        "\n",
        "Batch Size (256)\n",
        "* Balances computational efficiency with gradient information quality, providing a robust update mechanism.\n",
        "\n",
        "Validation Split (0.2)\n",
        "* Ensures model generalizability by reserving sufficient data for performance evaluation.\n",
        "\n",
        "Early Stopping\n",
        "* Mitigates overfitting by halting training when performance plateaus, identifying the optimal model configuration.\n",
        "\n",
        "Learning Rate Decay\n",
        "* Enables fine-tuned convergence by allowing adaptive learning rate adjustments.\n"
      ]
    },
    {
      "cell_type": "markdown",
      "metadata": {
        "id": "P-oeYWtpQghS"
      },
      "source": [
        "#### Training the Model\n",
        "\n",
        "The model was trained over 500 epochs with early stopping and model checkpointing to prevent overfitting and maintain optimal performance. The training process balanced model learning with validation performance."
      ]
    },
    {
      "cell_type": "code",
      "execution_count": 54,
      "metadata": {
        "colab": {
          "base_uri": "https://localhost:8080/"
        },
        "id": "loAFVt8OSvIp",
        "outputId": "811b4dba-2a14-4308-d07c-16f95aea3480"
      },
      "outputs": [
        {
          "name": "stdout",
          "output_type": "stream",
          "text": [
            "Epoch 1/500\n",
            "\u001b[1m1261/1261\u001b[0m \u001b[32m━━━━━━━━━━━━━━━━━━━━\u001b[0m\u001b[37m\u001b[0m \u001b[1m6s\u001b[0m 3ms/step - accuracy: 0.9604 - loss: 0.2216 - val_accuracy: 0.9890 - val_loss: 0.0684\n",
            "Epoch 2/500\n",
            "\u001b[1m1261/1261\u001b[0m \u001b[32m━━━━━━━━━━━━━━━━━━━━\u001b[0m\u001b[37m\u001b[0m \u001b[1m3s\u001b[0m 2ms/step - accuracy: 0.9894 - loss: 0.0630 - val_accuracy: 0.9907 - val_loss: 0.0558\n",
            "Epoch 3/500\n",
            "\u001b[1m1261/1261\u001b[0m \u001b[32m━━━━━━━━━━━━━━━━━━━━\u001b[0m\u001b[37m\u001b[0m \u001b[1m3s\u001b[0m 2ms/step - accuracy: 0.9901 - loss: 0.0569 - val_accuracy: 0.9915 - val_loss: 0.0511\n",
            "Epoch 4/500\n",
            "\u001b[1m1261/1261\u001b[0m \u001b[32m━━━━━━━━━━━━━━━━━━━━\u001b[0m\u001b[37m\u001b[0m \u001b[1m3s\u001b[0m 2ms/step - accuracy: 0.9903 - loss: 0.0533 - val_accuracy: 0.9921 - val_loss: 0.0485\n",
            "Epoch 5/500\n",
            "\u001b[1m1261/1261\u001b[0m \u001b[32m━━━━━━━━━━━━━━━━━━━━\u001b[0m\u001b[37m\u001b[0m \u001b[1m3s\u001b[0m 2ms/step - accuracy: 0.9906 - loss: 0.0507 - val_accuracy: 0.9908 - val_loss: 0.0493\n",
            "Epoch 6/500\n",
            "\u001b[1m1261/1261\u001b[0m \u001b[32m━━━━━━━━━━━━━━━━━━━━\u001b[0m\u001b[37m\u001b[0m \u001b[1m3s\u001b[0m 2ms/step - accuracy: 0.9908 - loss: 0.0487 - val_accuracy: 0.9921 - val_loss: 0.0478\n",
            "Epoch 7/500\n",
            "\u001b[1m1261/1261\u001b[0m \u001b[32m━━━━━━━━━━━━━━━━━━━━\u001b[0m\u001b[37m\u001b[0m \u001b[1m3s\u001b[0m 2ms/step - accuracy: 0.9909 - loss: 0.0478 - val_accuracy: 0.9922 - val_loss: 0.0467\n",
            "Epoch 8/500\n",
            "\u001b[1m1261/1261\u001b[0m \u001b[32m━━━━━━━━━━━━━━━━━━━━\u001b[0m\u001b[37m\u001b[0m \u001b[1m3s\u001b[0m 2ms/step - accuracy: 0.9912 - loss: 0.0463 - val_accuracy: 0.9924 - val_loss: 0.0439\n",
            "Epoch 9/500\n",
            "\u001b[1m1261/1261\u001b[0m \u001b[32m━━━━━━━━━━━━━━━━━━━━\u001b[0m\u001b[37m\u001b[0m \u001b[1m3s\u001b[0m 2ms/step - accuracy: 0.9909 - loss: 0.0457 - val_accuracy: 0.9920 - val_loss: 0.0434\n",
            "Epoch 10/500\n",
            "\u001b[1m1261/1261\u001b[0m \u001b[32m━━━━━━━━━━━━━━━━━━━━\u001b[0m\u001b[37m\u001b[0m \u001b[1m3s\u001b[0m 2ms/step - accuracy: 0.9913 - loss: 0.0447 - val_accuracy: 0.9927 - val_loss: 0.0409\n",
            "Epoch 11/500\n",
            "\u001b[1m1261/1261\u001b[0m \u001b[32m━━━━━━━━━━━━━━━━━━━━\u001b[0m\u001b[37m\u001b[0m \u001b[1m3s\u001b[0m 2ms/step - accuracy: 0.9913 - loss: 0.0444 - val_accuracy: 0.9918 - val_loss: 0.0411\n",
            "Epoch 12/500\n",
            "\u001b[1m1261/1261\u001b[0m \u001b[32m━━━━━━━━━━━━━━━━━━━━\u001b[0m\u001b[37m\u001b[0m \u001b[1m3s\u001b[0m 2ms/step - accuracy: 0.9915 - loss: 0.0438 - val_accuracy: 0.9924 - val_loss: 0.0428\n",
            "Epoch 13/500\n",
            "\u001b[1m1261/1261\u001b[0m \u001b[32m━━━━━━━━━━━━━━━━━━━━\u001b[0m\u001b[37m\u001b[0m \u001b[1m3s\u001b[0m 2ms/step - accuracy: 0.9915 - loss: 0.0437 - val_accuracy: 0.9909 - val_loss: 0.0421\n",
            "Epoch 14/500\n",
            "\u001b[1m1261/1261\u001b[0m \u001b[32m━━━━━━━━━━━━━━━━━━━━\u001b[0m\u001b[37m\u001b[0m \u001b[1m3s\u001b[0m 2ms/step - accuracy: 0.9915 - loss: 0.0433 - val_accuracy: 0.9917 - val_loss: 0.0456\n",
            "Epoch 15/500\n",
            "\u001b[1m1261/1261\u001b[0m \u001b[32m━━━━━━━━━━━━━━━━━━━━\u001b[0m\u001b[37m\u001b[0m \u001b[1m3s\u001b[0m 2ms/step - accuracy: 0.9915 - loss: 0.0444 - val_accuracy: 0.9925 - val_loss: 0.0410\n",
            "Epoch 16/500\n",
            "\u001b[1m1261/1261\u001b[0m \u001b[32m━━━━━━━━━━━━━━━━━━━━\u001b[0m\u001b[37m\u001b[0m \u001b[1m3s\u001b[0m 2ms/step - accuracy: 0.9916 - loss: 0.0432 - val_accuracy: 0.9917 - val_loss: 0.0433\n",
            "Epoch 17/500\n",
            "\u001b[1m1261/1261\u001b[0m \u001b[32m━━━━━━━━━━━━━━━━━━━━\u001b[0m\u001b[37m\u001b[0m \u001b[1m3s\u001b[0m 2ms/step - accuracy: 0.9917 - loss: 0.0433 - val_accuracy: 0.9929 - val_loss: 0.0420\n",
            "Epoch 18/500\n",
            "\u001b[1m1261/1261\u001b[0m \u001b[32m━━━━━━━━━━━━━━━━━━━━\u001b[0m\u001b[37m\u001b[0m \u001b[1m3s\u001b[0m 2ms/step - accuracy: 0.9917 - loss: 0.0424 - val_accuracy: 0.9930 - val_loss: 0.0412\n",
            "Epoch 19/500\n",
            "\u001b[1m1261/1261\u001b[0m \u001b[32m━━━━━━━━━━━━━━━━━━━━\u001b[0m\u001b[37m\u001b[0m \u001b[1m3s\u001b[0m 2ms/step - accuracy: 0.9915 - loss: 0.0434 - val_accuracy: 0.9935 - val_loss: 0.0391\n",
            "Epoch 20/500\n",
            "\u001b[1m1261/1261\u001b[0m \u001b[32m━━━━━━━━━━━━━━━━━━━━\u001b[0m\u001b[37m\u001b[0m \u001b[1m3s\u001b[0m 2ms/step - accuracy: 0.9916 - loss: 0.0423 - val_accuracy: 0.9926 - val_loss: 0.0423\n",
            "Epoch 21/500\n",
            "\u001b[1m1261/1261\u001b[0m \u001b[32m━━━━━━━━━━━━━━━━━━━━\u001b[0m\u001b[37m\u001b[0m \u001b[1m3s\u001b[0m 2ms/step - accuracy: 0.9918 - loss: 0.0427 - val_accuracy: 0.9929 - val_loss: 0.0401\n",
            "Epoch 22/500\n",
            "\u001b[1m1261/1261\u001b[0m \u001b[32m━━━━━━━━━━━━━━━━━━━━\u001b[0m\u001b[37m\u001b[0m \u001b[1m3s\u001b[0m 2ms/step - accuracy: 0.9916 - loss: 0.0422 - val_accuracy: 0.9932 - val_loss: 0.0390\n",
            "Epoch 23/500\n",
            "\u001b[1m1261/1261\u001b[0m \u001b[32m━━━━━━━━━━━━━━━━━━━━\u001b[0m\u001b[37m\u001b[0m \u001b[1m3s\u001b[0m 2ms/step - accuracy: 0.9917 - loss: 0.0422 - val_accuracy: 0.9934 - val_loss: 0.0380\n",
            "Epoch 24/500\n",
            "\u001b[1m1261/1261\u001b[0m \u001b[32m━━━━━━━━━━━━━━━━━━━━\u001b[0m\u001b[37m\u001b[0m \u001b[1m3s\u001b[0m 2ms/step - accuracy: 0.9918 - loss: 0.0422 - val_accuracy: 0.9918 - val_loss: 0.0403\n",
            "Epoch 25/500\n",
            "\u001b[1m1261/1261\u001b[0m \u001b[32m━━━━━━━━━━━━━━━━━━━━\u001b[0m\u001b[37m\u001b[0m \u001b[1m3s\u001b[0m 2ms/step - accuracy: 0.9918 - loss: 0.0422 - val_accuracy: 0.9914 - val_loss: 0.0423\n",
            "Epoch 26/500\n",
            "\u001b[1m1261/1261\u001b[0m \u001b[32m━━━━━━━━━━━━━━━━━━━━\u001b[0m\u001b[37m\u001b[0m \u001b[1m3s\u001b[0m 2ms/step - accuracy: 0.9915 - loss: 0.0425 - val_accuracy: 0.9914 - val_loss: 0.0410\n",
            "Epoch 27/500\n",
            "\u001b[1m1261/1261\u001b[0m \u001b[32m━━━━━━━━━━━━━━━━━━━━\u001b[0m\u001b[37m\u001b[0m \u001b[1m3s\u001b[0m 2ms/step - accuracy: 0.9916 - loss: 0.0419 - val_accuracy: 0.9916 - val_loss: 0.0399\n",
            "Epoch 28/500\n",
            "\u001b[1m1261/1261\u001b[0m \u001b[32m━━━━━━━━━━━━━━━━━━━━\u001b[0m\u001b[37m\u001b[0m \u001b[1m3s\u001b[0m 2ms/step - accuracy: 0.9914 - loss: 0.0434 - val_accuracy: 0.9917 - val_loss: 0.0432\n",
            "Epoch 29/500\n",
            "\u001b[1m1261/1261\u001b[0m \u001b[32m━━━━━━━━━━━━━━━━━━━━\u001b[0m\u001b[37m\u001b[0m \u001b[1m3s\u001b[0m 2ms/step - accuracy: 0.9918 - loss: 0.0420 - val_accuracy: 0.9923 - val_loss: 0.0442\n",
            "Epoch 30/500\n",
            "\u001b[1m1261/1261\u001b[0m \u001b[32m━━━━━━━━━━━━━━━━━━━━\u001b[0m\u001b[37m\u001b[0m \u001b[1m3s\u001b[0m 2ms/step - accuracy: 0.9917 - loss: 0.0421 - val_accuracy: 0.9901 - val_loss: 0.0431\n",
            "Epoch 31/500\n",
            "\u001b[1m1261/1261\u001b[0m \u001b[32m━━━━━━━━━━━━━━━━━━━━\u001b[0m\u001b[37m\u001b[0m \u001b[1m3s\u001b[0m 2ms/step - accuracy: 0.9914 - loss: 0.0422 - val_accuracy: 0.9916 - val_loss: 0.0450\n",
            "Epoch 32/500\n",
            "\u001b[1m1261/1261\u001b[0m \u001b[32m━━━━━━━━━━━━━━━━━━━━\u001b[0m\u001b[37m\u001b[0m \u001b[1m3s\u001b[0m 2ms/step - accuracy: 0.9918 - loss: 0.0416 - val_accuracy: 0.9918 - val_loss: 0.0453\n",
            "Epoch 33/500\n",
            "\u001b[1m1261/1261\u001b[0m \u001b[32m━━━━━━━━━━━━━━━━━━━━\u001b[0m\u001b[37m\u001b[0m \u001b[1m3s\u001b[0m 2ms/step - accuracy: 0.9918 - loss: 0.0414 - val_accuracy: 0.9917 - val_loss: 0.0425\n"
          ]
        }
      ],
      "source": [
        "## deleting the old model file in case it exists\n",
        "import os\n",
        "\n",
        "if os.path.exists('/content/best_model.keras'):\n",
        "    os.remove('/content/best_model.keras')\n",
        "\n",
        "history = model.fit(\n",
        "    x_train,\n",
        "    y_train,\n",
        "    epochs=500,\n",
        "    batch_size=256,\n",
        "    validation_split=0.2,\n",
        "    verbose=1,\n",
        "    callbacks=[early_stopping, model_checkpoint]\n",
        ")\n",
        "\n",
        "model.save('/content/models/final_pottery_classifier.keras', overwrite=True)"
      ]
    },
    {
      "cell_type": "markdown",
      "metadata": {
        "id": "X-9YHvUTQghT"
      },
      "source": [
        "##### Observation\n",
        "The model stopped training after 33 epochs, much earlier than expected. However, the Accuracy for Train and Validation are around ~99.17% which is great and the loss around ~0.041"
      ]
    },
    {
      "cell_type": "markdown",
      "metadata": {
        "id": "G0Oe1YBYQghU"
      },
      "source": [
        "#### Plotting Training & Validation Losses & Accuracy"
      ]
    },
    {
      "cell_type": "code",
      "execution_count": 55,
      "metadata": {
        "id": "eyqY4t24E-4R"
      },
      "outputs": [],
      "source": [
        "def plot_learning(history):\n",
        "  fig, (ax1, ax2) = plt.subplots(1, 2, figsize=(15, 5))\n",
        "\n",
        "  # accuracy plot\n",
        "  ax1.plot(history.history['accuracy'], label='Training Accuracy')\n",
        "  ax1.plot(history.history['val_accuracy'], label='Validation Accuracy')\n",
        "  ax1.set_title('Model Accuracy')\n",
        "  ax1.set_xlabel('Epoch')\n",
        "  ax1.set_ylabel('Accuracy')\n",
        "  ax1.legend()\n",
        "\n",
        "  # loss plot\n",
        "  ax2.plot(history.history['loss'], label='Training Loss')\n",
        "  ax2.plot(history.history['val_loss'], label='Validation Loss')\n",
        "  ax2.set_title('Model Loss')\n",
        "  ax2.set_xlabel('Epoch')\n",
        "  ax2.set_ylabel('Loss')\n",
        "  ax2.legend()\n",
        "\n",
        "  plt.tight_layout()"
      ]
    },
    {
      "cell_type": "code",
      "execution_count": 56,
      "metadata": {
        "colab": {
          "base_uri": "https://localhost:8080/",
          "height": 507
        },
        "id": "0PGrDQ2OE-4R",
        "outputId": "cc78537a-6933-4be6-9bf4-32c83ef140af"
      },
      "outputs": [
        {
          "data": {
            "image/png": "[encoded data removed]",
            "text/plain": [
              "<Figure size 1500x500 with 2 Axes>"
            ]
          },
          "metadata": {},
          "output_type": "display_data"
        }
      ],
      "source": [
        "plot_learning(history)"
      ]
    },
    {
      "cell_type": "markdown",
      "metadata": {
        "id": "eZdSe_t4QghU"
      },
      "source": [
        "##### Observations\n",
        "Model Accuracy Graph:\n",
        "\n",
        "* Training Accuracy (blue):\n",
        "    * Quickly reaches around 0.989\n",
        "    * Remains very stable throughout training\n",
        "\n",
        "\n",
        "* Validation Accuracy (orange):\n",
        "    * More fluctuation\n",
        "    * Hovers around 0.990, with some minor ups and downs\n",
        "\n",
        "Both lines converge very quickly, indicating good model learning\n",
        "_____________________________________________________________\n",
        "Model Loss Graph:\n",
        "\n",
        "* Training Loss (blue):\n",
        "    * Drops rapidly in the first few epochs\n",
        "    * Quickly stabilizes at a low value\n",
        "\n",
        "\n",
        "Validation Loss (orange):\n",
        "* Also drops quickly\n",
        "* Stabilizes with slight fluctuations\n",
        "\n",
        "The convergence of training and validation loss suggests the model is not overfitting\n",
        "______________________________________________________________\n",
        "##### Interpretation\n",
        "\n",
        "* Rapid Initial Learning: The model learns very quickly in the first few epochs\n",
        "* Stable Performance: Both accuracy and loss remain consistent after initial training\n",
        "* No Signs of Overfitting: Training and validation curves are close to each other\n",
        "* High Overall Performance: Accuracy around 0.99 indicates excellent model performance\n",
        "\n",
        "The graphs suggest the model has found a good representation of the data and generalizes well to unseen data."
      ]
    },
    {
      "cell_type": "markdown",
      "metadata": {
        "id": "7zkcbkACQghV"
      },
      "source": [
        "#### Model Evaluation"
      ]
    },
    {
      "cell_type": "code",
      "execution_count": 57,
      "metadata": {
        "colab": {
          "base_uri": "https://localhost:8080/"
        },
        "id": "fyLVF86SE-4R",
        "outputId": "a902b78b-a0c3-45ce-91e4-d75b573969c2"
      },
      "outputs": [
        {
          "name": "stdout",
          "output_type": "stream",
          "text": [
            "\u001b[1m3153/3153\u001b[0m \u001b[32m━━━━━━━━━━━━━━━━━━━━\u001b[0m\u001b[37m\u001b[0m \u001b[1m6s\u001b[0m 2ms/step - accuracy: 0.9950 - loss: 0.0339\n"
          ]
        },
        {
          "data": {
            "text/plain": [
              "[0.03758595883846283, 0.9930897951126099]"
            ]
          },
          "execution_count": 57,
          "metadata": {},
          "output_type": "execute_result"
        }
      ],
      "source": [
        "model.evaluate(x_test, y_test)"
      ]
    },
    {
      "cell_type": "markdown",
      "metadata": {
        "id": "DZCbj6XnQghn"
      },
      "source": [
        "The model achieved good results:\n",
        "* Loss: 0.0376 - very low, indicating good model performance\n",
        "* Accuracy: 99.31% accuracy on the test set\n",
        "\n",
        "Interpretation:\n",
        "* Low loss value suggests the model is making very confident and accurate predictions\n",
        "* Nearly 99.3% accuracy indicates excellent generalization to unseen data\n",
        "* The model performs consistently with the validation metrics"
      ]
    },
    {
      "cell_type": "markdown",
      "metadata": {
        "id": "4W5tSQ8FQgho"
      },
      "source": [
        "#### Making Predictions"
      ]
    },
    {
      "cell_type": "code",
      "execution_count": 58,
      "metadata": {
        "colab": {
          "base_uri": "https://localhost:8080/"
        },
        "id": "aBH2Z9o-E-4R",
        "outputId": "50da3f89-aae2-4b27-a103-e5909cb23420"
      },
      "outputs": [
        {
          "name": "stdout",
          "output_type": "stream",
          "text": [
            "\u001b[1m3153/3153\u001b[0m \u001b[32m━━━━━━━━━━━━━━━━━━━━\u001b[0m\u001b[37m\u001b[0m \u001b[1m4s\u001b[0m 1ms/step\n"
          ]
        }
      ],
      "source": [
        "y_pred = model.predict(x_test)\n",
        "y_pred_classes = np.argmax(y_pred, axis=1)\n",
        "\n",
        "with open('label_encoder.pkl', 'rb') as file:\n",
        "    le = pickle.load(file)\n",
        "y_pred_cultural = le.inverse_transform(y_pred_classes)\n",
        "\n",
        "predictions_df = pd.DataFrame(\n",
        "    y_pred,\n",
        "    columns=[f'Prob_{class_name}' for class_name in le.classes_]\n",
        ")"
      ]
    },
    {
      "cell_type": "code",
      "execution_count": 59,
      "metadata": {
        "colab": {
          "base_uri": "https://localhost:8080/"
        },
        "id": "Mmr10ygDE-4S",
        "outputId": "6f3d6ee8-59ce-4323-a69c-53b79bb5d61e"
      },
      "outputs": [
        {
          "name": "stdout",
          "output_type": "stream",
          "text": [
            "         Prob_CHUSKA   Prob_CIBOLA  Prob_KAYENTA  Prob_MESA V BLANDING  \\\n",
            "0       3.922552e-06  2.373625e-08  1.149828e-13          1.633177e-10   \n",
            "1       1.195385e-07  1.433009e-07  3.920935e-07          9.999989e-01   \n",
            "2       1.195385e-07  1.433009e-07  3.920935e-07          9.999989e-01   \n",
            "3       2.907976e-08  1.457362e-06  2.957578e-14          2.288541e-10   \n",
            "4       3.922552e-06  2.373625e-08  1.149828e-13          1.633177e-10   \n",
            "...              ...           ...           ...                   ...   \n",
            "100860  1.856146e-05  2.247336e-06  3.255753e-08          1.155795e-16   \n",
            "100861  1.549345e-04  1.326983e-04  1.304688e-07          1.216412e-14   \n",
            "100862  1.856146e-05  2.247336e-06  3.255753e-08          1.155795e-16   \n",
            "100863  1.856146e-05  2.247336e-06  3.255753e-08          1.155795e-16   \n",
            "100864  1.847158e-05  2.227627e-06  3.205540e-08          1.119522e-16   \n",
            "\n",
            "        Prob_MESA V CAHONE  Prob_MESA V DOLORES  Prob_MESA V SAN JUAN  \\\n",
            "0             1.395725e-05         9.999626e-01          6.880258e-06   \n",
            "1             7.584804e-11         1.099745e-07          2.127852e-10   \n",
            "2             7.584804e-11         1.099745e-07          2.127852e-10   \n",
            "3             1.207087e-05         9.998899e-01          5.051518e-05   \n",
            "4             1.395725e-05         9.999626e-01          6.880258e-06   \n",
            "...                    ...                  ...                   ...   \n",
            "100860        4.972023e-07         9.186677e-08          1.512193e-07   \n",
            "100861        2.471180e-06         4.707055e-07          1.926698e-06   \n",
            "100862        4.972023e-07         9.186677e-08          1.512193e-07   \n",
            "100863        4.972023e-07         9.186677e-08          1.512193e-07   \n",
            "100864        4.926260e-07         9.075477e-08          1.494451e-07   \n",
            "\n",
            "        Prob_MESA V SANDSTONE  Prob_QRTZ SAND IND  \n",
            "0                1.019861e-05        2.422780e-06  \n",
            "1                3.346138e-07        1.509812e-10  \n",
            "2                3.346138e-07        1.509812e-10  \n",
            "3                4.587518e-05        6.016010e-08  \n",
            "4                1.019861e-05        2.422780e-06  \n",
            "...                       ...                 ...  \n",
            "100860           3.109623e-06        9.999753e-01  \n",
            "100861           7.183624e-06        9.997002e-01  \n",
            "100862           3.109623e-06        9.999753e-01  \n",
            "100863           3.109623e-06        9.999753e-01  \n",
            "100864           3.085727e-06        9.999754e-01  \n",
            "\n",
            "[100865 rows x 9 columns]\n"
          ]
        }
      ],
      "source": [
        "print(predictions_df)"
      ]
    },
    {
      "cell_type": "markdown",
      "metadata": {
        "id": "wxVPQkD9Qghp"
      },
      "source": [
        "#### Visualization"
      ]
    },
    {
      "cell_type": "code",
      "execution_count": 60,
      "metadata": {
        "colab": {
          "base_uri": "https://localhost:8080/",
          "height": 1000
        },
        "id": "k10XvVhVE-4S",
        "outputId": "264c2681-6547-418b-a679-e49c372ccfb2"
      },
      "outputs": [
        {
          "data": {
            "text/plain": [
              "(array([0.5, 1.5, 2.5, 3.5, 4.5, 5.5, 6.5, 7.5, 8.5]),\n",
              " [Text(0.5, 0, 'CHUSKA'),\n",
              "  Text(1.5, 0, 'CIBOLA'),\n",
              "  Text(2.5, 0, 'KAYENTA'),\n",
              "  Text(3.5, 0, 'MESA V BLANDING'),\n",
              "  Text(4.5, 0, 'MESA V CAHONE'),\n",
              "  Text(5.5, 0, 'MESA V DOLORES'),\n",
              "  Text(6.5, 0, 'MESA V SAN JUAN'),\n",
              "  Text(7.5, 0, 'MESA V SANDSTONE'),\n",
              "  Text(8.5, 0, 'QRTZ SAND IND')])"
            ]
          },
          "execution_count": 60,
          "metadata": {},
          "output_type": "execute_result"
        },
        {
          "data": {
            "image/png": "[encoded data removed]",
            "text/plain": [
              "<Figure size 1200x1000 with 2 Axes>"
            ]
          },
          "metadata": {},
          "output_type": "display_data"
        }
      ],
      "source": [
        "from sklearn.metrics import confusion_matrix\n",
        "\n",
        "# confusion matrix\n",
        "cm = confusion_matrix(y_test, y_pred_classes)\n",
        "\n",
        "plt.figure(figsize=(12, 10))\n",
        "sns.heatmap(cm,\n",
        "            annot=True,\n",
        "            fmt='d',\n",
        "            cmap='Blues',\n",
        "            xticklabels=le.classes_,\n",
        "            yticklabels=le.classes_)\n",
        "plt.title('Confusion Matrix')\n",
        "plt.ylabel('True Label')\n",
        "plt.xlabel('Predicted Label')\n",
        "plt.xticks(rotation=45)"
      ]
    },
    {
      "cell_type": "markdown",
      "metadata": {
        "id": "XYAWebwrQghq"
      },
      "source": [
        "The diagonal values (dark blue color) represent correctly classified instances for each class\n",
        "Off-diagonal values (light blue) show misclassifications between classes\n",
        "\n",
        "Correct Classifications:\n",
        "* CHUSKA: 11,189 correct predictions\n",
        "* CIBOLA: 11,061 correct predictions\n",
        "* KAYENTA: 10,993 correct predictions\n",
        "* MESA V BLANDING: 11,413 correct predictions\n",
        "* MESA V CAHONE: 10,946 correct predictions\n",
        "* MESA V DOLORES: 11,280 correct predictions\n",
        "* MESA V SAN JUAN: 11,233 correct predictions\n",
        "* MESA V SANDSTONE: 11,100 correct predictions\n",
        "* ORTZ SAND IND: 10,953 correct predictions\n",
        "\n",
        "Misclassifications:\n",
        "\n",
        "Most misclassifications are relatively low\n",
        "* CHUSKA and ORTZ SAND IND (49 misclassifications)\n",
        "* CIBOLA and KAYENTA (86 misclassifications)\n",
        "* A few other small cross-class predictions\n",
        "\n",
        "Interpretation\n",
        "\n",
        "The matrix confirms the high accuracy and shows\n",
        "\n",
        "* Consistent performance across all classes\n",
        "* Very few misclassifications\n",
        "* No systematic bias towards misclassifying any particular pair of classes"
      ]
    },
    {
      "cell_type": "markdown",
      "metadata": {
        "id": "leL9aJvTQghq"
      },
      "source": [
        "#### Classification Report"
      ]
    },
    {
      "cell_type": "code",
      "execution_count": 61,
      "metadata": {
        "colab": {
          "base_uri": "https://localhost:8080/"
        },
        "id": "IaaTnNRRE-4T",
        "outputId": "a36310ad-cd4a-4cd5-e6fb-ea642c697f7d"
      },
      "outputs": [
        {
          "name": "stdout",
          "output_type": "stream",
          "text": [
            "                  precision  recall  f1-score     support\n",
            "CHUSKA                0.996   0.995     0.995   11249.000\n",
            "CIBOLA                0.971   0.988     0.979   11194.000\n",
            "KAYENTA               0.989   0.985     0.987   11155.000\n",
            "MESA V BLANDING       0.997   0.999     0.998   11430.000\n",
            "MESA V CAHONE         1.000   0.993     0.997   11018.000\n",
            "MESA V DOLORES        0.998   0.998     0.998   11298.000\n",
            "MESA V SAN JUAN       0.999   0.997     0.998   11267.000\n",
            "MESA V SANDSTONE      0.997   0.994     0.996   11166.000\n",
            "QRTZ SAND IND         0.991   0.988     0.990   11088.000\n",
            "accuracy              0.993   0.993     0.993       0.993\n",
            "macro avg             0.993   0.993     0.993  100865.000\n",
            "weighted avg          0.993   0.993     0.993  100865.000\n"
          ]
        }
      ],
      "source": [
        "from sklearn.metrics import classification_report\n",
        "report = classification_report(y_test, y_pred_classes,\n",
        "                             target_names=le.classes_,\n",
        "                             output_dict=True)\n",
        "\n",
        "report_df = pd.DataFrame(report).transpose()\n",
        "print(report_df.round(3))"
      ]
    },
    {
      "cell_type": "markdown",
      "metadata": {
        "id": "J3gGfB-3Qghr"
      },
      "source": [
        "Precision: The ratio of correctly predicted positive observations to the total predicted positive observations for each class.\n",
        "* Most classes have very high precision, ranging from 0.896 to 1.000\n",
        "This means when the model predicts a specific class, it's highly likely to be correct\n",
        "\n",
        "Recall: The ratio of correctly predicted positive observations to all observations in the actual class.\n",
        "\n",
        "* Recall is also consistently high, ranging from 0.985 to 0.998\n",
        "* This indicates the model is very good at identifying most instances of each class\n",
        "\n",
        "F1-Score: The harmonic mean of precision and recall, providing a single score that balances both metrics.\n",
        "\n",
        "* All classes have F1-scores between 0.995 and 0.998\n",
        "* This suggests excellent performance across all classes\n",
        "\n",
        "Support: The number of actual occurrences of each class in the test set.\n",
        "\n",
        "* Varies from around 11,000 to 11,250 samples per class\n",
        "* Relatively balanced dataset\n",
        "\n",
        "Overall Metrics:\n",
        "\n",
        "* Accuracy: 0.993 (99.3% correct predictions)\n",
        "* Macro average: 0.993\n",
        "* Weighted average: 0.993\n",
        "\n",
        "The model appears to be performing exceptionally well across all classes, with nearly perfect precision, recall, and F1-scores. This suggests:\n",
        "\n",
        "* The features are highly discriminative\n",
        "* The model architecture is well-suited to the problem"
      ]
    },
    {
      "cell_type": "markdown",
      "metadata": {
        "id": "PVlwBHMJE-4T"
      },
      "source": [
        "# Conclusions\n",
        "\n",
        "Key Learnings:\n",
        "\n",
        "* Implemented advanced regularization techniques like He weight initialization and L2 regularization\n",
        "* Gained insights into preventing overfitting through strategic model design\n",
        "* Developed a robust neural network achieving 99.31% accuracy in pottery classification\n",
        "\n",
        "Challenges:\n",
        "\n",
        "* Conducting thorough data exploration and preparation for a complex archaeological dataset\n",
        "* Managing categorical variable encoding to ensure model readiness\n",
        "* Designing neural network architecture to effectively capture dataset nuances\n",
        "* Understanding nuanced differences between weight decay and learning rate decay\n",
        "\n",
        "\n",
        "Future Considerations:\n",
        "\n",
        "* Explore advanced feature engineering\n",
        "* Investigate ensemble methods for potential performance improvements"
      ]
    },
    {
      "cell_type": "markdown",
      "metadata": {
        "id": "kcOVK1N6E-4U"
      },
      "source": [
        "# References\n",
        "\n",
        "Google. (2024). TensorFlow 2.18.0: Machine learning platform [Software]. https://www.tensorflow.org\n",
        "\n",
        "Digital Archaeological Record. (1988). Ceramics: Temporal-Spatial Dataset (tDAR id: 6039). https://doi.org/10.6067/XCV8TD9WNB"
      ]
    }
  ],
  "metadata": {
    "accelerator": "GPU",
    "colab": {
      "gpuType": "A100",
      "machine_shape": "hm",
      "provenance": []
    },
    "kernelspec": {
      "display_name": "Python 3",
      "name": "python3"
    },
    "language_info": {
      "codemirror_mode": {
        "name": "ipython",
        "version": 3
      },
      "file_extension": ".py",
      "mimetype": "text/x-python",
      "name": "python",
      "nbconvert_exporter": "python",
      "pygments_lexer": "ipython3",
      "version": "3.10.12"
    }
  },
  "nbformat": 4,
  "nbformat_minor": 0
}
